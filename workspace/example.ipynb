{
 "cells": [
  {
   "cell_type": "code",
   "execution_count": 1,
   "id": "797501b8-2533-4f74-88ae-027037def585",
   "metadata": {},
   "outputs": [],
   "source": [
    "# Initialize Spark\n",
    "from spark_utils import get_spark, create_dataframe\n",
    "spark = get_spark()"
   ]
  },
  {
   "cell_type": "code",
   "execution_count": null,
   "id": "de07148a-c94a-45fb-9c4b-f5f1fef196bb",
   "metadata": {},
   "outputs": [],
   "source": []
  }
 ],
 "metadata": {
  "kernelspec": {
   "display_name": "Python 3 (ipykernel)",
   "language": "python",
   "name": "python3"
  },
  "language_info": {
   "codemirror_mode": {
    "name": "ipython",
    "version": 3
   },
   "file_extension": ".py",
   "mimetype": "text/x-python",
   "name": "python",
   "nbconvert_exporter": "python",
   "pygments_lexer": "ipython3",
   "version": "3.11.6"
  }
 },
 "nbformat": 4,
 "nbformat_minor": 5
}
